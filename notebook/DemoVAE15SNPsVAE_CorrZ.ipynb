{
 "cells": [
  {
   "cell_type": "code",
   "execution_count": 2,
   "id": "e129dba0-43c9-4a38-a23f-c67264711306",
   "metadata": {},
   "outputs": [
    {
     "name": "stdout",
     "output_type": "stream",
     "text": [
      "Done\n"
     ]
    }
   ],
   "source": [
    "import torch\n",
    "import torch.nn as nn\n",
    "import torch.nn.functional as F\n",
    "\n",
    "class VAE(nn.Module):\n",
    "    def __init__(self, fcd, ld):\n",
    "        super(VAE, self).__init__()\n",
    "        self.fcd = fcd\n",
    "        self.ld = ld\n",
    "        self.enc1 = nn.Linear(fcd, 1000).float().cuda()\n",
    "        self.enc2 = nn.Linear(1000, ld).float().cuda()\n",
    "        self.dec1 = nn.Linear(ld+6, 1000).float().cuda()\n",
    "        self.dec2 = nn.Linear(1000, fcd).float().cuda()\n",
    "\n",
    "    def enc(self, x):\n",
    "        x = F.relu(self.enc1(x))\n",
    "        z = self.enc2(x)\n",
    "        return z\n",
    "\n",
    "    def gen(self, n):\n",
    "        return torch.randn(n, self.ld).float().cuda()/(10**0.5)\n",
    "    \n",
    "    def dec(self, z, age, sex, race, rest, nback, emoid):\n",
    "        z = torch.cat([z, age.unsqueeze(1), sex.unsqueeze(1), race.unsqueeze(1), \n",
    "                       rest.unsqueeze(1), nback.unsqueeze(1), emoid.unsqueeze(1)], dim=1)\n",
    "        x = F.relu(self.dec1(z))\n",
    "        x = self.dec2(x)\n",
    "        return x\n",
    "\n",
    "def rmse(a, b, mean=torch.mean):\n",
    "    return mean((a-b)**2)**0.5\n",
    "\n",
    "def pretty(x):\n",
    "    return f'{round(float(x), 4)}'\n",
    "\n",
    "vae = VAE(34716, 30)\n",
    "vae.load_state_dict(torch.load('/home/anton/Documents/Tulane/Research/ImageNomer/data/PNC/vae_1000_z30_cov6.torch'))\n",
    "vae.eval()\n",
    "\n",
    "print('Done')"
   ]
  },
  {
   "cell_type": "code",
   "execution_count": 2,
   "id": "60811e3e-6fca-49b0-ad00-be058d411a8f",
   "metadata": {},
   "outputs": [
    {
     "name": "stdout",
     "output_type": "stream",
     "text": [
      "Complete\n"
     ]
    }
   ],
   "source": [
    "ours2orig = [12, 13, 14, 15, 16, 17, 18, 19, 20, 21, 22, 23, 24, 25, 26, 27,\n",
    "28, 29, 30, 31, 32, 33, 34, 35, 36, 37, 38, 39, 40, 254, 41, 42, 43, 44, 45,\n",
    "46, 47, 48, 49, 50, 51, 52, 53, 54, 55, 56, 57, 58, 59, 60, 61, 62, 63, 64,\n",
    "65, 66, 67, 68, 69, 70, 71, 72, 73, 74, 75, 76, 77, 78, 79, 80, 81, 82, 85,\n",
    "86, 87, 88, 89, 90, 91, 92, 93, 94, 95, 96, 97, 98, 99, 100, 101, 102, 103,\n",
    "104, 105, 106, 107, 108, 109, 110, 111, 112, 113, 114, 115, 116, 117, 118,\n",
    "119, 120, 121, 122, 123, 124, 125, 126, 127, 128, 129, 130, 136, 138, 132,\n",
    "133, 134, 135, 220, 142, 143, 144, 145, 146, 147, 148, 149, 150, 151, 152,\n",
    "153, 154, 155, 156, 157, 158, 159, 160, 161, 162, 163, 164, 165, 166, 167,\n",
    "168, 169, 170, 171, 172, 173, 174, 175, 176, 177, 178, 179, 180, 185, 186,\n",
    "187, 188, 189, 190, 191, 192, 193, 194, 195, 196, 197, 198, 199, 200, 201,\n",
    "202, 203, 204, 205, 206, 207, 208, 209, 210, 211, 212, 213, 214, 215, 216,\n",
    "217, 218, 219, 221, 222, 223, 224, 225, 226, 227, 228, 229, 230, 231, 232,\n",
    "233, 137, 234, 235, 236, 237, 238, 239, 240, 241, 250, 251, 255, 256, 257,\n",
    "258, 259, 260, 261, 262, 263, 242, 243, 244, 245, 0, 1, 2, 3, 4, 5, 6, 7, 8,\n",
    "9, 10, 11, 83, 84, 131, 139, 140, 141, 181, 182, 183, 184, 246, 247, 248,\n",
    "249, 252, 253]\n",
    "\n",
    "def vec2mat(v):\n",
    "    a,b = np.triu_indices(264,1)\n",
    "    m = np.zeros((264,264))\n",
    "    m[a,b] = v\n",
    "    return m+m.T\n",
    "\n",
    "def remap(fc, roimap=ours2orig):\n",
    "    fc = fc[roimap,:]\n",
    "    fc = fc[:,roimap]\n",
    "    return fc\n",
    "\n",
    "print('Complete')"
   ]
  },
  {
   "cell_type": "code",
   "execution_count": 3,
   "id": "7dddd59d-03e9-418c-9752-1cddabce16ef",
   "metadata": {},
   "outputs": [
    {
     "name": "stdout",
     "output_type": "stream",
     "text": [
      "[(1155, 34716), (1155, 34716), (1155, 34716), (1155,), (1155,), (1155,)]\n"
     ]
    }
   ],
   "source": [
    "# Load FC\n",
    "\n",
    "import pickle\n",
    "import numpy as np\n",
    "\n",
    "pncdir = '/home/anton/Documents/Tulane/Research/data-sav/anton/cohorts/PNC/'\n",
    "lowrankdir = '/home/anton/Documents/Tulane/Research/Work/ContrastiveLearning/PNC/Top10/'\n",
    "pncdemo = pickle.load(open(f'{pncdir}/demographics.pkl', 'rb'))\n",
    "no_snps_subs = pickle.load(open('/home/anton/Documents/Tulane/Research/ImageNomer/data/PNC/fc_subs_no_snps.pkl', 'rb'))\n",
    "\n",
    "rest = []\n",
    "nback = []\n",
    "emoid = []\n",
    "restmat = []\n",
    "nbackmat = []\n",
    "emoidmat = []\n",
    "race = []\n",
    "sex = []\n",
    "age = []\n",
    "subids = []\n",
    "\n",
    "a,b = np.triu_indices(264,1)\n",
    "\n",
    "for sub in pncdemo['age_at_cnb']:\n",
    "    if sub in no_snps_subs:\n",
    "        continue\n",
    "    try:\n",
    "        ra = pncdemo['Race'][sub]\n",
    "        ag = pncdemo['age_at_cnb'][sub]\n",
    "        se = pncdemo['Sex'][sub]\n",
    "        if ra not in ['AA', 'EA']:\n",
    "            continue\n",
    "        ra = ra == 'AA'\n",
    "        se = se == 'M'\n",
    "        r = np.load(f'{pncdir}/fc/{sub}_task-rest_fc.npy')\n",
    "        n = np.load(f'{pncdir}/fc/{sub}_task-nback_fc.npy')\n",
    "        e = np.load(f'{pncdir}/fc/{sub}_task-emoid_fc.npy')\n",
    "        r = remap(vec2mat(r))\n",
    "        n = remap(vec2mat(n))\n",
    "        e = remap(vec2mat(e))\n",
    "        race.append(ra)\n",
    "        sex.append(se)\n",
    "        age.append(ag)\n",
    "        rest.append(r[a,b])\n",
    "        nback.append(n[a,b])\n",
    "        emoid.append(e[a,b])\n",
    "        subids.append(sub)\n",
    "    except:\n",
    "        pass\n",
    "\n",
    "rest = np.stack(rest)\n",
    "nback = np.stack(nback)\n",
    "emoid = np.stack(emoid)\n",
    "race = np.array(race).astype('int')\n",
    "sex = np.array(sex).astype('int')\n",
    "age = np.array(age)\n",
    "\n",
    "print([a.shape for a in [rest, nback, emoid, race, sex, age]])"
   ]
  },
  {
   "cell_type": "code",
   "execution_count": 4,
   "id": "372a51eb-ac89-4b6d-971a-4644cb9ccfb3",
   "metadata": {},
   "outputs": [
    {
     "name": "stdout",
     "output_type": "stream",
     "text": [
      "(1155, 35621)\n"
     ]
    }
   ],
   "source": [
    "# Load small SNPs\n",
    "\n",
    "snps = []\n",
    "no_snps_subs = []\n",
    "\n",
    "snps_file = pickle.load(open('/home/anton/Documents/Tulane/Research/ImageNomer/data/PNC/snps_all_subs_big.pkl', 'rb'))\n",
    "\n",
    "for sub in subids:\n",
    "    if sub not in snps_file:\n",
    "        print(sub)\n",
    "        # no_snps_subs.append(sub)\n",
    "    snps.append(snps_file[sub])\n",
    "\n",
    "snps = np.stack(snps)\n",
    "snps[np.isnan(snps)] = 0\n",
    "\n",
    "print(snps.shape)"
   ]
  },
  {
   "cell_type": "code",
   "execution_count": 5,
   "id": "6a58f9a8-2af2-4774-b307-661a23f505c8",
   "metadata": {},
   "outputs": [
    {
     "name": "stdout",
     "output_type": "stream",
     "text": [
      "Done\n"
     ]
    }
   ],
   "source": [
    "import torch\n",
    "import torch.nn as nn\n",
    "import torch.nn.functional as F\n",
    "import random\n",
    "\n",
    "def rmse(a, b, mean=torch.mean):\n",
    "    return mean((a-b)**2)**0.5\n",
    "\n",
    "def pretty(x):\n",
    "    return f'{round(float(x), 4)}'\n",
    "\n",
    "class SNPVAE(nn.Module):\n",
    "    def __init__(self, snpd, ld):\n",
    "        super(SNPVAE, self).__init__()\n",
    "        self.ld = ld\n",
    "        self.enc1 = nn.Linear(snpd*3, 1000).float().cuda()\n",
    "        self.enc2 = nn.Linear(1000, ld).float().cuda()\n",
    "        self.dec1 = nn.Linear(ld+2, 1000).float().cuda()\n",
    "        self.dec20 = nn.Linear(1000, snpd).float().cuda()\n",
    "        self.dec21 = nn.Linear(1000, snpd).float().cuda()\n",
    "        self.dec22 = nn.Linear(1000, snpd).float().cuda()\n",
    "\n",
    "    def enc(self, x):\n",
    "        x = F.relu(self.enc1(x))\n",
    "        z = self.enc2(x)\n",
    "        return z\n",
    "\n",
    "    def gen(self, n):\n",
    "        return torch.randn(n, self.ld).float().cuda()/(10**0.5)\n",
    "\n",
    "    def dec(self, z, sex, race):\n",
    "        z = torch.cat([z, sex.unsqueeze(1), race.unsqueeze(1)], dim=1)\n",
    "        x = F.relu(self.dec1(z))\n",
    "        x0 = self.dec20(x)\n",
    "        x1 = self.dec21(x)\n",
    "        x2 = self.dec22(x)\n",
    "        return torch.stack([x0, x1, x2], dim=1)\n",
    "\n",
    "def latent_loss(z):\n",
    "    C = z.T@z\n",
    "    mu = torch.mean(z, dim=0)\n",
    "    tgt1 = torch.eye(z.shape[-1]).float().cuda()*len(z)/10\n",
    "    tgt2 = torch.zeros(z.shape[-1]).float().cuda()\n",
    "    lossC = rmse(C, tgt1)\n",
    "    lossmu = rmse(mu, tgt2)\n",
    "    return lossC, lossmu, C, mu\n",
    "\n",
    "def decor_loss(z, sex, race):\n",
    "    sex = sex - torch.mean(sex)\n",
    "    race = race - torch.mean(race)\n",
    "    sexp = torch.einsum('n,nz->z', sex, z)\n",
    "    racep = torch.einsum('n,nz->z', race, z)\n",
    "    tgt = torch.zeros(z.shape[-1]).float().cuda()\n",
    "    loss_sex = rmse(sexp, tgt)\n",
    "    loss_race = rmse(racep, tgt)\n",
    "    return loss_sex + loss_race\n",
    "\n",
    "ce = nn.CrossEntropyLoss()\n",
    "\n",
    "# snpvae = SNPVAE(10433, 30)\n",
    "snpvae = SNPVAE(35621, 100)\n",
    "snpvae.load_state_dict(torch.load('/home/anton/Documents/Tulane/Research/ImageNomer/data/PNC/vae_snps_big_1000_z100_cov2.torch'))\n",
    "snpvae.eval()\n",
    "\n",
    "xclass = torch.from_numpy(snps).long().cuda()\n",
    "x = torch.cat([xclass == 0, xclass == 1, xclass == 2], dim=1).float().cuda()\n",
    "sex_t = torch.from_numpy(sex).float().cuda()\n",
    "race_t = torch.from_numpy(race).float().cuda()\n",
    "\n",
    "print('Done')"
   ]
  },
  {
   "cell_type": "code",
   "execution_count": 8,
   "id": "79b390f2-3841-4a7c-ac47-ef25985420e0",
   "metadata": {},
   "outputs": [
    {
     "name": "stdout",
     "output_type": "stream",
     "text": [
      "PEITANG yes 0.004350412149722871 1155\n",
      "LNB_FP yes 0.00988712738887454 1141\n",
      "169 2\n"
     ]
    },
    {
     "name": "stderr",
     "output_type": "stream",
     "text": [
      "/tmp/ipykernel_339617/3357025902.py:11: RuntimeWarning: invalid value encountered in divide\n",
      "  rho = xy/((xx*yy)**0.5)\n"
     ]
    }
   ],
   "source": [
    "import scipy.stats as stats\n",
    "\n",
    "zz = snpvae.enc(x).detach().cpu().numpy()\n",
    "\n",
    "def corr(z, y):\n",
    "    z = z - np.mean(z, axis=0, keepdims=True)\n",
    "    y = y - np.mean(y)\n",
    "    xx = np.einsum('na,na->a', z, z)\n",
    "    yy = np.einsum('n,n->', y, y)\n",
    "    xy = np.einsum('na,n->a', z, y)\n",
    "    rho = xy/((xx*yy)**0.5)\n",
    "    n = z.shape[0]\n",
    "    m = z.shape[1]\n",
    "    df = n-2\n",
    "    t = rho*(df/(1-rho**2))**0.5\n",
    "    t[t < 0] = -t[t < 0]\n",
    "    p = (1-stats.t.cdf(t, df))*2\n",
    "    p *= m\n",
    "    p[p > 1] = 1\n",
    "    return rho, p\n",
    "\n",
    "def to_cat(y):\n",
    "    cats = set()\n",
    "    for yy in y:\n",
    "        cats.add(yy)\n",
    "    cats = list(cats)\n",
    "    yp = np.zeros(len(y))\n",
    "    for j,yy in enumerate(y):\n",
    "        for i,cat in enumerate(cats):\n",
    "            if yy == cat:\n",
    "                yp[j] = i\n",
    "    return yp\n",
    "\n",
    "demo = pncdemo\n",
    "\n",
    "n = 0\n",
    "m = 0\n",
    "for key in demo.keys():\n",
    "    z = []\n",
    "    y = []\n",
    "    for i,sub in enumerate(subids):\n",
    "        if sub in demo[key]:\n",
    "            z.append(zz[i])\n",
    "            y.append(demo[key][sub])\n",
    "    if len(z) == 0:\n",
    "        continue\n",
    "    n += 1\n",
    "    nn = len(z)\n",
    "    z = np.stack(z)\n",
    "    y = np.array(y)\n",
    "    if isinstance(y[0], str):\n",
    "        y = to_cat(y)\n",
    "    rho, p = corr(z, y)\n",
    "    if np.any(p < 0.01):\n",
    "        m += 1\n",
    "        print(key, 'yes', min(p), nn)\n",
    "print(n, m)"
   ]
  },
  {
   "cell_type": "code",
   "execution_count": 10,
   "id": "1521ffd8-4743-4bd6-8b94-1f34f41abb65",
   "metadata": {},
   "outputs": [
    {
     "data": {
      "text/plain": [
       "1155"
      ]
     },
     "execution_count": 10,
     "metadata": {},
     "output_type": "execute_result"
    }
   ],
   "source": [
    "len(subids)"
   ]
  },
  {
   "cell_type": "code",
   "execution_count": 11,
   "id": "1f74c901-9ff4-43ad-a486-8c41fd31e29c",
   "metadata": {},
   "outputs": [
    {
     "ename": "AttributeError",
     "evalue": "'list' object has no attribute 'shape'",
     "output_type": "error",
     "traceback": [
      "\u001b[0;31m---------------------------------------------------------------------------\u001b[0m",
      "\u001b[0;31mAttributeError\u001b[0m                            Traceback (most recent call last)",
      "Cell \u001b[0;32mIn[11], line 1\u001b[0m\n\u001b[0;32m----> 1\u001b[0m \u001b[43mz\u001b[49m\u001b[38;5;241;43m.\u001b[39;49m\u001b[43mshape\u001b[49m\n",
      "\u001b[0;31mAttributeError\u001b[0m: 'list' object has no attribute 'shape'"
     ]
    }
   ],
   "source": [
    "z.shape"
   ]
  },
  {
   "cell_type": "code",
   "execution_count": null,
   "id": "843531b2-b2f0-4fbe-8951-1844371d489b",
   "metadata": {},
   "outputs": [],
   "source": []
  }
 ],
 "metadata": {
  "kernelspec": {
   "display_name": "Python 3 (ipykernel)",
   "language": "python",
   "name": "python3"
  },
  "language_info": {
   "codemirror_mode": {
    "name": "ipython",
    "version": 3
   },
   "file_extension": ".py",
   "mimetype": "text/x-python",
   "name": "python",
   "nbconvert_exporter": "python",
   "pygments_lexer": "ipython3",
   "version": "3.11.8"
  }
 },
 "nbformat": 4,
 "nbformat_minor": 5
}
