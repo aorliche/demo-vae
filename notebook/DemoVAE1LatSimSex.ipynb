{
 "cells": [
  {
   "cell_type": "code",
   "execution_count": 1,
   "id": "27ecb0ce-7062-4c80-bda6-5a33a60f5d3f",
   "metadata": {},
   "outputs": [
    {
     "name": "stdout",
     "output_type": "stream",
     "text": [
      "Done\n"
     ]
    }
   ],
   "source": [
    "import sys\n",
    "\n",
    "latsimdir = '/home/anton/Documents/Tulane/Research/LatentSimilarity/'\n",
    "\n",
    "if latsimdir not in sys.path:\n",
    "    sys.path.append(latsimdir)\n",
    "\n",
    "from latsim import LatSimClf\n",
    "\n",
    "print('Done')"
   ]
  },
  {
   "cell_type": "code",
   "execution_count": 2,
   "id": "24f666c8-83f7-40ad-9f96-d8884131b22f",
   "metadata": {},
   "outputs": [
    {
     "name": "stdout",
     "output_type": "stream",
     "text": [
      "Complete\n"
     ]
    }
   ],
   "source": [
    "ours2orig = [12, 13, 14, 15, 16, 17, 18, 19, 20, 21, 22, 23, 24, 25, 26, 27,\n",
    "28, 29, 30, 31, 32, 33, 34, 35, 36, 37, 38, 39, 40, 254, 41, 42, 43, 44, 45,\n",
    "46, 47, 48, 49, 50, 51, 52, 53, 54, 55, 56, 57, 58, 59, 60, 61, 62, 63, 64,\n",
    "65, 66, 67, 68, 69, 70, 71, 72, 73, 74, 75, 76, 77, 78, 79, 80, 81, 82, 85,\n",
    "86, 87, 88, 89, 90, 91, 92, 93, 94, 95, 96, 97, 98, 99, 100, 101, 102, 103,\n",
    "104, 105, 106, 107, 108, 109, 110, 111, 112, 113, 114, 115, 116, 117, 118,\n",
    "119, 120, 121, 122, 123, 124, 125, 126, 127, 128, 129, 130, 136, 138, 132,\n",
    "133, 134, 135, 220, 142, 143, 144, 145, 146, 147, 148, 149, 150, 151, 152,\n",
    "153, 154, 155, 156, 157, 158, 159, 160, 161, 162, 163, 164, 165, 166, 167,\n",
    "168, 169, 170, 171, 172, 173, 174, 175, 176, 177, 178, 179, 180, 185, 186,\n",
    "187, 188, 189, 190, 191, 192, 193, 194, 195, 196, 197, 198, 199, 200, 201,\n",
    "202, 203, 204, 205, 206, 207, 208, 209, 210, 211, 212, 213, 214, 215, 216,\n",
    "217, 218, 219, 221, 222, 223, 224, 225, 226, 227, 228, 229, 230, 231, 232,\n",
    "233, 137, 234, 235, 236, 237, 238, 239, 240, 241, 250, 251, 255, 256, 257,\n",
    "258, 259, 260, 261, 262, 263, 242, 243, 244, 245, 0, 1, 2, 3, 4, 5, 6, 7, 8,\n",
    "9, 10, 11, 83, 84, 131, 139, 140, 141, 181, 182, 183, 184, 246, 247, 248,\n",
    "249, 252, 253]\n",
    "\n",
    "def vec2mat(v):\n",
    "    a,b = np.triu_indices(264,1)\n",
    "    m = np.zeros((264,264))\n",
    "    m[a,b] = v\n",
    "    return m+m.T\n",
    "\n",
    "def remap(fc, roimap=ours2orig):\n",
    "    fc = fc[roimap,:]\n",
    "    fc = fc[:,roimap]\n",
    "    return fc\n",
    "\n",
    "print('Complete')"
   ]
  },
  {
   "cell_type": "code",
   "execution_count": 3,
   "id": "7d37ac50-35f4-4bc0-b1db-4cfb2d646e9f",
   "metadata": {},
   "outputs": [
    {
     "name": "stdout",
     "output_type": "stream",
     "text": [
      "[(1193, 34716), (1193, 34716), (1193, 34716), (1193, 264, 264), (1193, 264, 264), (1193, 264, 264), (1193,), (1193,), (1193,)]\n"
     ]
    }
   ],
   "source": [
    "import pickle\n",
    "import numpy as np\n",
    "\n",
    "pncdir = '/home/anton/Documents/Tulane/Research/data-sav/anton/cohorts/PNC/'\n",
    "lowrankdir = '/home/anton/Documents/Tulane/Research/Work/ContrastiveLearning/PNC/Top10/'\n",
    "pncdemo = pickle.load(open(f'{pncdir}/demographics.pkl', 'rb'))\n",
    "\n",
    "rest = []\n",
    "nback = []\n",
    "emoid = []\n",
    "restmat = []\n",
    "nbackmat = []\n",
    "emoidmat = []\n",
    "race = []\n",
    "sex = []\n",
    "age = []\n",
    "\n",
    "a,b = np.triu_indices(264,1)\n",
    "\n",
    "for sub in pncdemo['age_at_cnb']:\n",
    "    try:\n",
    "        ra = pncdemo['Race'][sub]\n",
    "        ag = pncdemo['age_at_cnb'][sub]\n",
    "        se = pncdemo['Sex'][sub]\n",
    "        if ra not in ['AA', 'EA']:\n",
    "            continue\n",
    "        ra = ra == 'AA'\n",
    "        se = se == 'M'\n",
    "        r = np.load(f'{lowrankdir}/{sub}_task-resttop10_fc.npy')\n",
    "        n = np.load(f'{lowrankdir}/{sub}_task-nbacktop10_fc.npy')\n",
    "        e = np.load(f'{lowrankdir}/{sub}_task-emoidtop10_fc.npy')\n",
    "        r = remap(vec2mat(r))\n",
    "        n = remap(vec2mat(n))\n",
    "        e = remap(vec2mat(e))\n",
    "        race.append(ra)\n",
    "        sex.append(se)\n",
    "        age.append(ag)\n",
    "        rest.append(r[a,b])\n",
    "        nback.append(n[a,b])\n",
    "        emoid.append(e[a,b])\n",
    "        restmat.append(r)\n",
    "        nbackmat.append(n)\n",
    "        emoidmat.append(e)\n",
    "    except:\n",
    "        pass\n",
    "\n",
    "rest = np.stack(rest)\n",
    "nback = np.stack(nback)\n",
    "emoid = np.stack(emoid)\n",
    "restmat = np.stack(restmat)\n",
    "nbackmat = np.stack(nbackmat)\n",
    "emoidmat = np.stack(emoidmat)\n",
    "race = np.array(race).astype('int')\n",
    "sex = np.array(sex).astype('int')\n",
    "age = np.array(age)\n",
    "\n",
    "print([a.shape for a in [rest, nback, emoid, restmat, nbackmat, emoidmat, race, sex, age]])"
   ]
  },
  {
   "cell_type": "code",
   "execution_count": 42,
   "id": "3c6ff264-6054-4844-9cdc-4c305d442ef3",
   "metadata": {},
   "outputs": [
    {
     "name": "stdout",
     "output_type": "stream",
     "text": [
      "Done\n"
     ]
    }
   ],
   "source": [
    "from sklearn.model_selection import train_test_split\n",
    "\n",
    "x1tr, x1t, x2tr, x2t, x3tr, x3t, ytr, yt = train_test_split(rest, nback, emoid, race, stratify=race, train_size=1000)\n",
    "\n",
    "clf1 = LatSimClf().fit(x1tr, ytr, nepochs=50, weight_decay=1e-4, lr=1e-4, ld=1)\n",
    "clf2 = LatSimClf().fit(x2tr, ytr, nepochs=50, weight_decay=1e-4, lr=1e-4, ld=1)\n",
    "clf3 = LatSimClf().fit(x3tr, ytr, nepochs=50, weight_decay=1e-4, lr=1e-4, ld=1)\n",
    "\n",
    "print('Done')"
   ]
  },
  {
   "cell_type": "code",
   "execution_count": 43,
   "id": "831996aa-37df-4692-a6ff-8e003e4894fa",
   "metadata": {},
   "outputs": [
    {
     "name": "stdout",
     "output_type": "stream",
     "text": [
      "0.7927461139896373\n",
      "0.844559585492228\n",
      "0.8601036269430051\n",
      "0.8756476683937824\n"
     ]
    }
   ],
   "source": [
    "y1 = clf1.predict(x1t)\n",
    "y2 = clf2.predict(x2t)\n",
    "y3 = clf3.predict(x3t)\n",
    "\n",
    "yhat = (y1+y2+y3)/3\n",
    "yhat = np.round(yhat).astype('int')\n",
    "\n",
    "print(np.mean(y1 == yt))\n",
    "print(np.mean(y2 == yt))\n",
    "print(np.mean(y3 == yt))\n",
    "print(np.mean(yhat == yt))"
   ]
  },
  {
   "cell_type": "code",
   "execution_count": null,
   "id": "9744a26d-cda9-4a4b-94ab-1060e32509e4",
   "metadata": {},
   "outputs": [],
   "source": [
    "Wang, X., Yao, L., Rekik, I., & Zhang, Y. (2022, September). Contrastive Functional Connectivity Graph Learning for Population-based fMRI Classification. In International Conference on Medical Image Computing and Computer-Assisted Intervention (pp. 221-230). Cham: Springer Nature Switzerland.\n",
    "\n",
    "Hassanzadeh, R., & Calhoun, V. (2022, March). A Contrastive Learning-Based Approach To Measure Spatial Coupling Among Brain Networks: A Schizophrenia Study. In 2022 IEEE 19th International Symposium on Biomedical Imaging (ISBI) (pp. 1-4). IEEE."
   ]
  }
 ],
 "metadata": {
  "kernelspec": {
   "display_name": "Python 3 (ipykernel)",
   "language": "python",
   "name": "python3"
  },
  "language_info": {
   "codemirror_mode": {
    "name": "ipython",
    "version": 3
   },
   "file_extension": ".py",
   "mimetype": "text/x-python",
   "name": "python",
   "nbconvert_exporter": "python",
   "pygments_lexer": "ipython3",
   "version": "3.11.5"
  }
 },
 "nbformat": 4,
 "nbformat_minor": 5
}
