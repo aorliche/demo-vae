{
 "cells": [
  {
   "cell_type": "code",
   "execution_count": 1,
   "id": "dee5e972-3b69-49a7-9ecf-aa98c56d7ac8",
   "metadata": {},
   "outputs": [
    {
     "name": "stdout",
     "output_type": "stream",
     "text": [
      "Complete\n"
     ]
    }
   ],
   "source": [
    "ours2orig = [12, 13, 14, 15, 16, 17, 18, 19, 20, 21, 22, 23, 24, 25, 26, 27,\n",
    "28, 29, 30, 31, 32, 33, 34, 35, 36, 37, 38, 39, 40, 254, 41, 42, 43, 44, 45,\n",
    "46, 47, 48, 49, 50, 51, 52, 53, 54, 55, 56, 57, 58, 59, 60, 61, 62, 63, 64,\n",
    "65, 66, 67, 68, 69, 70, 71, 72, 73, 74, 75, 76, 77, 78, 79, 80, 81, 82, 85,\n",
    "86, 87, 88, 89, 90, 91, 92, 93, 94, 95, 96, 97, 98, 99, 100, 101, 102, 103,\n",
    "104, 105, 106, 107, 108, 109, 110, 111, 112, 113, 114, 115, 116, 117, 118,\n",
    "119, 120, 121, 122, 123, 124, 125, 126, 127, 128, 129, 130, 136, 138, 132,\n",
    "133, 134, 135, 220, 142, 143, 144, 145, 146, 147, 148, 149, 150, 151, 152,\n",
    "153, 154, 155, 156, 157, 158, 159, 160, 161, 162, 163, 164, 165, 166, 167,\n",
    "168, 169, 170, 171, 172, 173, 174, 175, 176, 177, 178, 179, 180, 185, 186,\n",
    "187, 188, 189, 190, 191, 192, 193, 194, 195, 196, 197, 198, 199, 200, 201,\n",
    "202, 203, 204, 205, 206, 207, 208, 209, 210, 211, 212, 213, 214, 215, 216,\n",
    "217, 218, 219, 221, 222, 223, 224, 225, 226, 227, 228, 229, 230, 231, 232,\n",
    "233, 137, 234, 235, 236, 237, 238, 239, 240, 241, 250, 251, 255, 256, 257,\n",
    "258, 259, 260, 261, 262, 263, 242, 243, 244, 245, 0, 1, 2, 3, 4, 5, 6, 7, 8,\n",
    "9, 10, 11, 83, 84, 131, 139, 140, 141, 181, 182, 183, 184, 246, 247, 248,\n",
    "249, 252, 253]\n",
    "\n",
    "def vec2mat(v):\n",
    "    a,b = np.triu_indices(264,1)\n",
    "    m = np.zeros((264,264))\n",
    "    m[a,b] = v\n",
    "    return m+m.T\n",
    "\n",
    "def remap(fc, roimap=ours2orig):\n",
    "    fc = fc[roimap,:]\n",
    "    fc = fc[:,roimap]\n",
    "    return fc\n",
    "\n",
    "print('Complete')"
   ]
  },
  {
   "cell_type": "code",
   "execution_count": 2,
   "id": "2c7fb694-dcae-41ae-b63a-548ad1e9ef5b",
   "metadata": {},
   "outputs": [
    {
     "name": "stdout",
     "output_type": "stream",
     "text": [
      "64.0\n",
      "15.0\n",
      "36.92098765432099\n",
      "12.335582538145621\n",
      "[(405, 34716), (405,), (405,), (405,), (405,)]\n"
     ]
    }
   ],
   "source": [
    "import pickle\n",
    "import numpy as np\n",
    "\n",
    "# s1.0 = male probably\n",
    "\n",
    "bsnipdir = '/home/anton/Documents/Tulane/Research/data-sav/anton/cohorts/BSNIP/'\n",
    "demo = pickle.load(open(f'{bsnipdir}/demographics.pkl', 'rb'))\n",
    "\n",
    "fc = []\n",
    "pc = []\n",
    "race = []\n",
    "sex = []\n",
    "age = []\n",
    "sz = []\n",
    "subids = []\n",
    "\n",
    "a,b = np.triu_indices(264,1)\n",
    "\n",
    "for sub in demo['Age_cal']:\n",
    "    diag = demo['DXGROUP_1'][sub]\n",
    "    if diag not in ['SZP', 'NC']:\n",
    "        continue\n",
    "    ra = demo['Race'][sub]\n",
    "    if ra not in ['AA', 'CA']:\n",
    "        continue\n",
    "    se = demo['sex'][sub]\n",
    "    diag = diag == 'SZP'\n",
    "    ra = ra == 'AA'\n",
    "    se = se == 's1.0'\n",
    "    ag = demo['Age_cal'][sub]\n",
    "    p = np.load(f'{bsnipdir}/fc/{sub}_task-unk_fc.npy')\n",
    "    p = remap(vec2mat(p))[a,b]\n",
    "    age.append(ag)\n",
    "    sex.append(se)\n",
    "    race.append(ra)\n",
    "    sz.append(diag)\n",
    "    fc.append(p)\n",
    "    subids.append(sub)\n",
    "\n",
    "fc = np.stack(fc)\n",
    "race = np.array(race).astype('int')\n",
    "sex = np.array(sex).astype('int')\n",
    "sz = np.array(sz).astype('int')\n",
    "age = np.array(age)\n",
    "\n",
    "print(max(age))\n",
    "print(min(age))\n",
    "print(np.mean(age))\n",
    "print(np.std(age))\n",
    "# age = (age-np.mean(age))/np.std(age)\n",
    "\n",
    "print([a.shape for a in [fc, sz, race, sex, age]])"
   ]
  },
  {
   "cell_type": "code",
   "execution_count": 15,
   "id": "2e2fe5da-ceab-4430-8200-d739ff5a3c35",
   "metadata": {},
   "outputs": [
    {
     "name": "stdout",
     "output_type": "stream",
     "text": [
      "130\n",
      "55\n",
      "2.2099675919612228e-10\n"
     ]
    }
   ],
   "source": [
    "from scipy.stats import ttest_ind\n",
    "print(np.sum((sz == 1) * (sex == 1)))\n",
    "print(np.sum((sz == 1) * (sex == 0)))\n",
    "res = ttest_ind((sz == 1) * (sex == 1), (sz == 1) * (sex == 0))\n",
    "print(res.pvalue)"
   ]
  },
  {
   "cell_type": "code",
   "execution_count": 19,
   "id": "743290a5-868d-431a-80f2-65c8a861bdbc",
   "metadata": {},
   "outputs": [
    {
     "name": "stdout",
     "output_type": "stream",
     "text": [
      "0\n",
      "50\n",
      "100\n",
      "150\n",
      "200\n",
      "250\n",
      "300\n",
      "350\n",
      "400\n",
      "Done\n"
     ]
    }
   ],
   "source": [
    "from nilearn.connectome import ConnectivityMeasure\n",
    "\n",
    "cm = ConnectivityMeasure(kind='partial correlation')\n",
    "\n",
    "tsfile = pickle.load(open('/home/anton/Documents/Tulane/Research/data-sav/anton/cohorts/BSNIP/bsnip_rc_ts_centered.pkl', 'rb'))\n",
    "a,b = np.triu_indices(264,1)\n",
    "\n",
    "for i,sub in enumerate(subids):\n",
    "    subold = sub.replace('.','_')\n",
    "    try:\n",
    "        pc = cm.fit_transform(np.expand_dims(tsfile[subold][ours2orig,:].T, 0))[0]\n",
    "        np.save(f'/home/anton/Documents/Tulane/Research/ImageNomer/data/BSNIP/pc/{sub}_task-unk_pc.npy', pc[a,b])\n",
    "    except:\n",
    "        pass\n",
    "    if i % 50 == 0:\n",
    "        print(i)\n",
    "\n",
    "print('Done')"
   ]
  },
  {
   "cell_type": "code",
   "execution_count": 3,
   "id": "ede29dd6-b41e-4226-abad-28cdefd6e31e",
   "metadata": {},
   "outputs": [
    {
     "name": "stdout",
     "output_type": "stream",
     "text": [
      "(405, 34716)\n"
     ]
    }
   ],
   "source": [
    "pc = []\n",
    "\n",
    "for sub in subids:\n",
    "    p = np.load(f'/home/anton/Documents/Tulane/Research/ImageNomer/data/BSNIP/pc/{sub}_task-unk_pc.npy')\n",
    "    pc.append(p)\n",
    "\n",
    "pc = np.stack(pc)\n",
    "\n",
    "print(pc.shape)"
   ]
  },
  {
   "cell_type": "code",
   "execution_count": 4,
   "id": "3cff756e-b37b-4201-9641-c07e98aead16",
   "metadata": {},
   "outputs": [
    {
     "name": "stdout",
     "output_type": "stream",
     "text": [
      "Done\n"
     ]
    }
   ],
   "source": [
    "import torch\n",
    "import torch.nn as nn\n",
    "import torch.nn.functional as F\n",
    "\n",
    "import random\n",
    "\n",
    "class VAE(nn.Module):\n",
    "    def __init__(self, fcd, ld):\n",
    "        super(VAE, self).__init__()\n",
    "        self.fcd = fcd\n",
    "        self.ld = ld\n",
    "        self.enc1 = nn.Linear(fcd, 1000).float().cuda()\n",
    "        self.enc2 = nn.Linear(1000, ld).float().cuda()\n",
    "        self.dec1 = nn.Linear(ld+4, 1000).float().cuda()\n",
    "        self.dec2 = nn.Linear(1000, fcd).float().cuda()\n",
    "\n",
    "    def enc(self, x):\n",
    "        x = F.relu(self.enc1(x))\n",
    "        z = self.enc2(x)\n",
    "        return z\n",
    "\n",
    "    def gen(self, n):\n",
    "        return torch.randn(n, self.ld).float().cuda()/(10**0.5)\n",
    "    \n",
    "    def dec(self, z, age, sex, race, sz):\n",
    "        z = torch.cat([z, age.unsqueeze(1), sex.unsqueeze(1), race.unsqueeze(1), sz.unsqueeze(1)], dim=1)\n",
    "        x = F.relu(self.dec1(z))\n",
    "        x = self.dec2(x)\n",
    "        return x\n",
    "\n",
    "def rmse(a, b, mean=torch.mean):\n",
    "    return mean((a-b)**2)**0.5\n",
    "\n",
    "def pretty(x):\n",
    "    return f'{round(float(x), 4)}'\n",
    "\n",
    "vae = VAE(34716, 30)\n",
    "vae.load_state_dict(torch.load('/home/anton/Documents/Tulane/Research/ImageNomer/data/BSNIP/vae_1000_z30_cov4.torch'))\n",
    "vae.eval()\n",
    "\n",
    "with torch.no_grad():\n",
    "    z = vae.enc(torch.from_numpy(fc).float().cuda())\n",
    "    age_t = torch.from_numpy(age).float().cuda()\n",
    "    sex_t = torch.from_numpy(sex).float().cuda()\n",
    "    race_t = torch.from_numpy(race).float().cuda()\n",
    "    sz_t = torch.from_numpy(sz).float().cuda()\n",
    "    ffc = vae.dec(z, age_t, sex_t, race_t, sz_t).detach().cpu().numpy()\n",
    "\n",
    "print('Done')"
   ]
  },
  {
   "cell_type": "code",
   "execution_count": 24,
   "id": "fff06daf-3481-4e1b-a1c5-f1213357c2df",
   "metadata": {},
   "outputs": [
    {
     "name": "stdout",
     "output_type": "stream",
     "text": [
      "0\n",
      "20\n",
      "40\n",
      "60\n",
      "80\n",
      "100\n",
      "120\n",
      "140\n",
      "160\n",
      "180\n",
      "200\n",
      "220\n",
      "240\n",
      "260\n",
      "280\n",
      "300\n",
      "320\n",
      "340\n",
      "360\n",
      "380\n",
      "400\n",
      "Done\n",
      "(405, 34716)\n"
     ]
    }
   ],
   "source": [
    "from nilearn.connectome import ConnectivityMeasure\n",
    "\n",
    "cm = ConnectivityMeasure(kind='partial correlation')\n",
    "\n",
    "xpc = []\n",
    "\n",
    "def pc_from_fc(fc):\n",
    "    diag = np.random.uniform(low=10,high=20,size=(264))\n",
    "    d1 = np.expand_dims(diag,0)\n",
    "    d2 = np.expand_dims(diag,1)\n",
    "    I = vec2mat(fc)\n",
    "    l, v = np.linalg.eig(I)\n",
    "    l[l<0] = 1e-3\n",
    "    I = v@np.diag(l)@v.T\n",
    "    # I = 0.99*I+0.01*np.eye(264)\n",
    "    I = I*d1*d2\n",
    "    L = np.linalg.cholesky(I)\n",
    "    x = np.random.normal(loc=0, scale=1, size=(264,200))\n",
    "    Lx = L@x\n",
    "    pc = cm.fit_transform([Lx.T])[0]\n",
    "    a,b = np.triu_indices(264,1)\n",
    "    return pc[a,b]\n",
    "\n",
    "for i in range(len(ffc)):\n",
    "    xpc.append(pc_from_fc(ffc[i]))\n",
    "    if i % 20 == 0:\n",
    "        print(i)\n",
    "\n",
    "xpc = np.stack(xpc)\n",
    "\n",
    "print('Done')\n",
    "print(xpc.shape)"
   ]
  },
  {
   "cell_type": "code",
   "execution_count": 11,
   "id": "f1ae6853-100d-4ac5-94a8-09c2d014c661",
   "metadata": {},
   "outputs": [
    {
     "name": "stdout",
     "output_type": "stream",
     "text": [
      "0.6051844124327149\n",
      "1.0\n"
     ]
    }
   ],
   "source": [
    "from sklearn.linear_model import Ridge\n",
    "\n",
    "def rmse(a,b,mean=np.mean):\n",
    "    return mean((a-b)**2)**0.5\n",
    "\n",
    "reg = Ridge(alpha=1).fit(ffc, age)\n",
    "yhat = reg.predict(fc)\n",
    "err = rmse(yhat, age)\n",
    "print(err)\n",
    "null = rmse(0, age)\n",
    "print(null)"
   ]
  },
  {
   "cell_type": "code",
   "execution_count": 29,
   "id": "cb69d3e3-4b59-49a7-9aac-26f4be11cc93",
   "metadata": {},
   "outputs": [
    {
     "name": "stdout",
     "output_type": "stream",
     "text": [
      "0.9061728395061729\n",
      "0.5432098765432098\n"
     ]
    }
   ],
   "source": [
    "from sklearn.linear_model import LogisticRegression\n",
    "\n",
    "reg = LogisticRegression(C=10000).fit(xpc, race)\n",
    "yhat = reg.predict(pc)\n",
    "acc = np.mean(yhat == race)\n",
    "print(acc)\n",
    "null = np.mean(sz)\n",
    "if null < 0.5:\n",
    "    null = 1-null\n",
    "print(null)"
   ]
  },
  {
   "cell_type": "code",
   "execution_count": null,
   "id": "f01ee144-06a6-49a8-bbbc-8a04b5a7c4e5",
   "metadata": {},
   "outputs": [],
   "source": []
  }
 ],
 "metadata": {
  "kernelspec": {
   "display_name": "Python 3 (ipykernel)",
   "language": "python",
   "name": "python3"
  },
  "language_info": {
   "codemirror_mode": {
    "name": "ipython",
    "version": 3
   },
   "file_extension": ".py",
   "mimetype": "text/x-python",
   "name": "python",
   "nbconvert_exporter": "python",
   "pygments_lexer": "ipython3",
   "version": "3.11.5"
  }
 },
 "nbformat": 4,
 "nbformat_minor": 5
}
