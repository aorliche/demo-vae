{
 "cells": [
  {
   "cell_type": "code",
   "execution_count": 1,
   "id": "045b35f4-661f-449e-8bcd-6e024b5652f5",
   "metadata": {},
   "outputs": [
    {
     "name": "stdout",
     "output_type": "stream",
     "text": [
      "Complete\n"
     ]
    }
   ],
   "source": [
    "ours2orig = [12, 13, 14, 15, 16, 17, 18, 19, 20, 21, 22, 23, 24, 25, 26, 27,\n",
    "28, 29, 30, 31, 32, 33, 34, 35, 36, 37, 38, 39, 40, 254, 41, 42, 43, 44, 45,\n",
    "46, 47, 48, 49, 50, 51, 52, 53, 54, 55, 56, 57, 58, 59, 60, 61, 62, 63, 64,\n",
    "65, 66, 67, 68, 69, 70, 71, 72, 73, 74, 75, 76, 77, 78, 79, 80, 81, 82, 85,\n",
    "86, 87, 88, 89, 90, 91, 92, 93, 94, 95, 96, 97, 98, 99, 100, 101, 102, 103,\n",
    "104, 105, 106, 107, 108, 109, 110, 111, 112, 113, 114, 115, 116, 117, 118,\n",
    "119, 120, 121, 122, 123, 124, 125, 126, 127, 128, 129, 130, 136, 138, 132,\n",
    "133, 134, 135, 220, 142, 143, 144, 145, 146, 147, 148, 149, 150, 151, 152,\n",
    "153, 154, 155, 156, 157, 158, 159, 160, 161, 162, 163, 164, 165, 166, 167,\n",
    "168, 169, 170, 171, 172, 173, 174, 175, 176, 177, 178, 179, 180, 185, 186,\n",
    "187, 188, 189, 190, 191, 192, 193, 194, 195, 196, 197, 198, 199, 200, 201,\n",
    "202, 203, 204, 205, 206, 207, 208, 209, 210, 211, 212, 213, 214, 215, 216,\n",
    "217, 218, 219, 221, 222, 223, 224, 225, 226, 227, 228, 229, 230, 231, 232,\n",
    "233, 137, 234, 235, 236, 237, 238, 239, 240, 241, 250, 251, 255, 256, 257,\n",
    "258, 259, 260, 261, 262, 263, 242, 243, 244, 245, 0, 1, 2, 3, 4, 5, 6, 7, 8,\n",
    "9, 10, 11, 83, 84, 131, 139, 140, 141, 181, 182, 183, 184, 246, 247, 248,\n",
    "249, 252, 253]\n",
    "\n",
    "def vec2mat(v):\n",
    "    a,b = np.triu_indices(264,1)\n",
    "    m = np.zeros((264,264))\n",
    "    m[a,b] = v\n",
    "    return m+m.T\n",
    "\n",
    "def remap(fc, roimap=ours2orig):\n",
    "    fc = fc[roimap,:]\n",
    "    fc = fc[:,roimap]\n",
    "    return fc\n",
    "\n",
    "print('Complete')"
   ]
  },
  {
   "cell_type": "code",
   "execution_count": 2,
   "id": "f75dee7f-b686-4276-9170-e2508a1242ed",
   "metadata": {},
   "outputs": [
    {
     "name": "stdout",
     "output_type": "stream",
     "text": [
      "[(1155, 34716), (1155, 34716), (1155, 34716), (1155,), (1155,), (1155,)]\n"
     ]
    }
   ],
   "source": [
    "# Load FC\n",
    "\n",
    "import pickle\n",
    "import numpy as np\n",
    "\n",
    "pncdir = '/home/anton/Documents/Tulane/Research/data-sav/anton/cohorts/PNC/'\n",
    "lowrankdir = '/home/anton/Documents/Tulane/Research/Work/ContrastiveLearning/PNC/Top10/'\n",
    "pncdemo = pickle.load(open(f'{pncdir}/demographics.pkl', 'rb'))\n",
    "no_snps_subs = pickle.load(open('/home/anton/Documents/Tulane/Research/ImageNomer/data/PNC/fc_subs_no_snps.pkl', 'rb'))\n",
    "\n",
    "rest = []\n",
    "nback = []\n",
    "emoid = []\n",
    "restmat = []\n",
    "nbackmat = []\n",
    "emoidmat = []\n",
    "race = []\n",
    "sex = []\n",
    "age = []\n",
    "subids = []\n",
    "\n",
    "a,b = np.triu_indices(264,1)\n",
    "\n",
    "for sub in pncdemo['age_at_cnb']:\n",
    "    if sub in no_snps_subs:\n",
    "        continue\n",
    "    try:\n",
    "        ra = pncdemo['Race'][sub]\n",
    "        ag = pncdemo['age_at_cnb'][sub]\n",
    "        se = pncdemo['Sex'][sub]\n",
    "        if ra not in ['AA', 'EA']:\n",
    "            continue\n",
    "        ra = ra == 'AA'\n",
    "        se = se == 'M'\n",
    "        r = np.load(f'{pncdir}/fc/{sub}_task-rest_fc.npy')\n",
    "        n = np.load(f'{pncdir}/fc/{sub}_task-nback_fc.npy')\n",
    "        e = np.load(f'{pncdir}/fc/{sub}_task-emoid_fc.npy')\n",
    "        r = remap(vec2mat(r))\n",
    "        n = remap(vec2mat(n))\n",
    "        e = remap(vec2mat(e))\n",
    "        race.append(ra)\n",
    "        sex.append(se)\n",
    "        age.append(ag)\n",
    "        rest.append(r[a,b])\n",
    "        nback.append(n[a,b])\n",
    "        emoid.append(e[a,b])\n",
    "        subids.append(sub)\n",
    "    except:\n",
    "        pass\n",
    "\n",
    "rest = np.stack(rest)\n",
    "nback = np.stack(nback)\n",
    "emoid = np.stack(emoid)\n",
    "race = np.array(race).astype('int')\n",
    "sex = np.array(sex).astype('int')\n",
    "age = np.array(age)\n",
    "\n",
    "age = (age-np.mean(age))/np.std(age)\n",
    "\n",
    "print([a.shape for a in [rest, nback, emoid, race, sex, age]])"
   ]
  },
  {
   "cell_type": "code",
   "execution_count": 3,
   "id": "ae75e1e2-5296-4413-94a0-6a9105224261",
   "metadata": {},
   "outputs": [
    {
     "name": "stdout",
     "output_type": "stream",
     "text": [
      "Done\n"
     ]
    }
   ],
   "source": [
    "import torch\n",
    "import torch.nn as nn\n",
    "import torch.nn.functional as F\n",
    "import random\n",
    "\n",
    "def rmse(a, b, mean=torch.mean):\n",
    "    return mean((a-b)**2)**0.5\n",
    "\n",
    "def pretty(x):\n",
    "    return f'{round(float(x), 4)}'\n",
    "\n",
    "class VAE(nn.Module):\n",
    "    def __init__(self, fcd, ld):\n",
    "        super(VAE, self).__init__()\n",
    "        self.fcd = fcd\n",
    "        self.ld = ld\n",
    "        self.enc1 = nn.Linear(fcd, 1000).float().cuda()\n",
    "        self.enc2 = nn.Linear(1000, ld).float().cuda()\n",
    "        self.dec1 = nn.Linear(ld+6, 1000).float().cuda()\n",
    "        self.dec2 = nn.Linear(1000, fcd).float().cuda()\n",
    "\n",
    "    def enc(self, x):\n",
    "        x = F.relu(self.enc1(x))\n",
    "        z = self.enc2(x)\n",
    "        return z\n",
    "\n",
    "    def gen(self, n):\n",
    "        return torch.randn(n, self.ld).float().cuda()/(10**0.5)\n",
    "    \n",
    "    def dec(self, z, age, sex, race, rest, nback, emoid):\n",
    "        z = torch.cat([z, age.unsqueeze(1), sex.unsqueeze(1), race.unsqueeze(1), \n",
    "                       rest.unsqueeze(1), nback.unsqueeze(1), emoid.unsqueeze(1)], dim=1)\n",
    "        x = F.relu(self.dec1(z))\n",
    "        x = self.dec2(x)\n",
    "        return x\n",
    "\n",
    "def rmse(a, b, mean=torch.mean):\n",
    "    return mean((a-b)**2)**0.5\n",
    "\n",
    "def pretty(x):\n",
    "    return f'{round(float(x), 4)}'\n",
    "\n",
    "vae = VAE(34716, 30)\n",
    "vae.load_state_dict(torch.load('/home/anton/Documents/Tulane/Research/ImageNomer/data/PNC/vae_1000_z30_cov6.torch'))\n",
    "vae.eval()\n",
    "\n",
    "print('Done')"
   ]
  },
  {
   "cell_type": "code",
   "execution_count": 4,
   "id": "76430391-618e-4377-9b6d-a1d06eb9f6db",
   "metadata": {},
   "outputs": [
    {
     "name": "stdout",
     "output_type": "stream",
     "text": [
      "0 0.3701\n",
      "100 0.1734\n",
      "200 0.1632\n",
      "300 0.1588\n",
      "400 0.1561\n",
      "500 0.1549\n",
      "600 0.1535\n",
      "700 0.1528\n",
      "800 0.1538\n",
      "900 0.1506\n",
      "1000 0.1504\n",
      "1100 0.1501\n",
      "1200 0.1491\n",
      "1300 0.1494\n",
      "1400 0.1485\n",
      "1500 0.1483\n",
      "1600 0.1481\n",
      "1700 0.1473\n",
      "1800 0.1474\n",
      "1900 0.1474\n",
      "1999 0.1476\n",
      "Done\n"
     ]
    }
   ],
   "source": [
    "# Train MLP\n",
    "\n",
    "class TaskSwitch(nn.Module):\n",
    "    def __init__(self):\n",
    "        super(TaskSwitch, self).__init__()\n",
    "        self.fc1 = nn.Linear(34716, 1000).float().cuda()\n",
    "        self.fc2 = nn.Linear(1000, 34716).float().cuda()\n",
    "\n",
    "    def forward(self, x):\n",
    "        x = F.relu(self.fc1(x))\n",
    "        x = self.fc2(x)\n",
    "        return x\n",
    "\n",
    "ts = TaskSwitch()\n",
    "optim = torch.optim.Adam(ts.parameters(), lr=5e-4, weight_decay=1e-4)\n",
    "\n",
    "nepochs = 2000\n",
    "pperiod = 100\n",
    "\n",
    "rest_t = torch.from_numpy(rest).float().cuda()\n",
    "nback_t = torch.from_numpy(nback).float().cuda()\n",
    "emoid_t = torch.from_numpy(emoid).float().cuda()\n",
    "\n",
    "for e in range(nepochs):\n",
    "    optim.zero_grad()\n",
    "    xhat = ts(emoid_t[:800])\n",
    "    loss = rmse(xhat, nback_t[:800])\n",
    "    loss.backward()\n",
    "    optim.step()\n",
    "    if e % pperiod == 0 or e == nepochs-1:\n",
    "        print(f'{e} {pretty(loss)}')\n",
    "\n",
    "print('Done')"
   ]
  },
  {
   "cell_type": "code",
   "execution_count": 5,
   "id": "ae74a7e4-bf24-4489-8743-9220b6f0cbb5",
   "metadata": {},
   "outputs": [
    {
     "name": "stdout",
     "output_type": "stream",
     "text": [
      "0.18082082 0.03998015\n"
     ]
    }
   ],
   "source": [
    "# MLP\n",
    "\n",
    "with torch.no_grad():\n",
    "    xhat = ts(emoid_t[800:])\n",
    "    avg = []\n",
    "    for i in range(len(xhat)):\n",
    "        loss = rmse(xhat[i], nback_t[800+i])\n",
    "        avg.append(loss.detach().cpu().numpy())\n",
    "    print(np.mean(avg), np.std(avg))"
   ]
  },
  {
   "cell_type": "code",
   "execution_count": 6,
   "id": "6ea24566-13bd-448f-90c4-b52af088cb7f",
   "metadata": {},
   "outputs": [
    {
     "name": "stdout",
     "output_type": "stream",
     "text": [
      "0.19489487 0.055324692\n"
     ]
    }
   ],
   "source": [
    "# Avg\n",
    "\n",
    "diff = torch.mean(nback_t[:800]-emoid_t[:800], dim=0).unsqueeze(0)\n",
    "xhat = diff+emoid_t[800:]\n",
    "avg = []\n",
    "for i in range(len(xhat)):\n",
    "    loss = rmse(xhat[i], nback_t[800+i])\n",
    "    avg.append(loss.detach().cpu().numpy())\n",
    "print(np.mean(avg), np.std(avg))\n"
   ]
  },
  {
   "cell_type": "code",
   "execution_count": 8,
   "id": "dc8d8c6b-dd13-4b48-9164-e61b62e786b5",
   "metadata": {},
   "outputs": [
    {
     "name": "stdout",
     "output_type": "stream",
     "text": [
      "0.19761838 0.054033354\n"
     ]
    }
   ],
   "source": [
    "# Just same\n",
    "\n",
    "avg = []\n",
    "for i in range(len(xhat)):\n",
    "    loss = rmse(nback_t[800+i], emoid_t[800+i])\n",
    "    avg.append(loss.detach().cpu().numpy())\n",
    "print(np.mean(avg), np.std(avg))"
   ]
  },
  {
   "cell_type": "code",
   "execution_count": 13,
   "id": "f90f2b0f-6143-4d72-886f-c30aaf4b0b15",
   "metadata": {},
   "outputs": [
    {
     "name": "stdout",
     "output_type": "stream",
     "text": [
      "0.1741209114941073 0.027648964295041413\n",
      "0.22411603765798285 0.05707637291857793\n"
     ]
    }
   ],
   "source": [
    "# VAE with random samples\n",
    "\n",
    "with torch.no_grad():\n",
    "    z = vae.enc(emoid_t[800:])\n",
    "    ag = torch.from_numpy(age[800:]).float().cuda()\n",
    "    sx = torch.from_numpy(sex[800:]).float().cuda()\n",
    "    rc = torch.from_numpy(race[800:]).float().cuda()\n",
    "    tsk = torch.ones(len(z)).float().cuda()\n",
    "    avg = []\n",
    "    avgavg = []\n",
    "    for i in range(len(z)):\n",
    "        min = 100\n",
    "        for j in range(20):\n",
    "            zz = vae.gen(1)\n",
    "            xhat = vae.dec(zz, ag[i:i+1], sx[i:i+1], rc[i:i+1], 0*tsk[i:i+1], 1*tsk[i:i+1], 0*tsk[i:i+1])\n",
    "            loss = rmse(xhat[0], nback_t[800+i])\n",
    "            avgavg.append(float(loss))\n",
    "            if loss < min:\n",
    "                min = float(loss)\n",
    "        avg.append(min)\n",
    "    print(np.mean(avg), np.std(avg))\n",
    "    print(np.mean(avgavg), np.std(avgavg))"
   ]
  },
  {
   "cell_type": "code",
   "execution_count": null,
   "id": "be67ee25-5a2e-42a9-b891-16c265b8d31e",
   "metadata": {},
   "outputs": [],
   "source": []
  }
 ],
 "metadata": {
  "kernelspec": {
   "display_name": "Python 3 (ipykernel)",
   "language": "python",
   "name": "python3"
  },
  "language_info": {
   "codemirror_mode": {
    "name": "ipython",
    "version": 3
   },
   "file_extension": ".py",
   "mimetype": "text/x-python",
   "name": "python",
   "nbconvert_exporter": "python",
   "pygments_lexer": "ipython3",
   "version": "3.11.5"
  }
 },
 "nbformat": 4,
 "nbformat_minor": 5
}
