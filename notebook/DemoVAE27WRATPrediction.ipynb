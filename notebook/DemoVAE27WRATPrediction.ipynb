{
 "cells": [
  {
   "cell_type": "code",
   "execution_count": 1,
   "id": "4ce3d627-6dc7-41c5-ac70-1c64245f2505",
   "metadata": {},
   "outputs": [
    {
     "name": "stdout",
     "output_type": "stream",
     "text": [
      "Complete\n"
     ]
    }
   ],
   "source": [
    "ours2orig = [12, 13, 14, 15, 16, 17, 18, 19, 20, 21, 22, 23, 24, 25, 26, 27,\n",
    "28, 29, 30, 31, 32, 33, 34, 35, 36, 37, 38, 39, 40, 254, 41, 42, 43, 44, 45,\n",
    "46, 47, 48, 49, 50, 51, 52, 53, 54, 55, 56, 57, 58, 59, 60, 61, 62, 63, 64,\n",
    "65, 66, 67, 68, 69, 70, 71, 72, 73, 74, 75, 76, 77, 78, 79, 80, 81, 82, 85,\n",
    "86, 87, 88, 89, 90, 91, 92, 93, 94, 95, 96, 97, 98, 99, 100, 101, 102, 103,\n",
    "104, 105, 106, 107, 108, 109, 110, 111, 112, 113, 114, 115, 116, 117, 118,\n",
    "119, 120, 121, 122, 123, 124, 125, 126, 127, 128, 129, 130, 136, 138, 132,\n",
    "133, 134, 135, 220, 142, 143, 144, 145, 146, 147, 148, 149, 150, 151, 152,\n",
    "153, 154, 155, 156, 157, 158, 159, 160, 161, 162, 163, 164, 165, 166, 167,\n",
    "168, 169, 170, 171, 172, 173, 174, 175, 176, 177, 178, 179, 180, 185, 186,\n",
    "187, 188, 189, 190, 191, 192, 193, 194, 195, 196, 197, 198, 199, 200, 201,\n",
    "202, 203, 204, 205, 206, 207, 208, 209, 210, 211, 212, 213, 214, 215, 216,\n",
    "217, 218, 219, 221, 222, 223, 224, 225, 226, 227, 228, 229, 230, 231, 232,\n",
    "233, 137, 234, 235, 236, 237, 238, 239, 240, 241, 250, 251, 255, 256, 257,\n",
    "258, 259, 260, 261, 262, 263, 242, 243, 244, 245, 0, 1, 2, 3, 4, 5, 6, 7, 8,\n",
    "9, 10, 11, 83, 84, 131, 139, 140, 141, 181, 182, 183, 184, 246, 247, 248,\n",
    "249, 252, 253]\n",
    "\n",
    "def vec2mat(v):\n",
    "    a,b = np.triu_indices(264,1)\n",
    "    m = np.zeros((264,264))\n",
    "    m[a,b] = v\n",
    "    return m+m.T\n",
    "\n",
    "def remap(fc, roimap=ours2orig):\n",
    "    fc = fc[roimap,:]\n",
    "    fc = fc[:,roimap]\n",
    "    return fc\n",
    "\n",
    "print('Complete')"
   ]
  },
  {
   "cell_type": "code",
   "execution_count": 2,
   "id": "dcd8c06f-6239-4ce9-b870-aa65f16b15bd",
   "metadata": {},
   "outputs": [
    {
     "name": "stdout",
     "output_type": "stream",
     "text": [
      "[(1154, 34716), (1154, 34716), (1154, 34716), (1154,), (1154,), (1154,), (1154,)]\n"
     ]
    }
   ],
   "source": [
    "# Load FC\n",
    "\n",
    "import pickle\n",
    "import numpy as np\n",
    "\n",
    "pncdir = '/home/anton/Documents/Tulane/Research/data-sav/anton/cohorts/PNC/'\n",
    "lowrankdir = '/home/anton/Documents/Tulane/Research/Work/ContrastiveLearning/PNC/Top10/'\n",
    "pncdemo = pickle.load(open(f'{pncdir}/demographics.pkl', 'rb'))\n",
    "no_snps_subs = pickle.load(open('/home/anton/Documents/Tulane/Research/ImageNomer/data/PNC/fc_subs_no_snps.pkl', 'rb'))\n",
    "\n",
    "rest = []\n",
    "nback = []\n",
    "emoid = []\n",
    "restmat = []\n",
    "nbackmat = []\n",
    "emoidmat = []\n",
    "race = []\n",
    "sex = []\n",
    "age = []\n",
    "wrat = []\n",
    "subids = []\n",
    "\n",
    "a,b = np.triu_indices(264,1)\n",
    "\n",
    "for sub in pncdemo['age_at_cnb']:\n",
    "    if sub in no_snps_subs:\n",
    "        continue\n",
    "    try:\n",
    "        ra = pncdemo['Race'][sub]\n",
    "        ag = pncdemo['age_at_cnb'][sub]\n",
    "        se = pncdemo['Sex'][sub]\n",
    "        wr = pncdemo['WRAT_CR_STD'][sub]\n",
    "        if ra not in ['AA', 'EA']:\n",
    "            continue\n",
    "        ra = ra == 'AA'\n",
    "        se = se == 'M'\n",
    "        r = np.load(f'{pncdir}/fc/{sub}_task-rest_fc.npy')\n",
    "        n = np.load(f'{pncdir}/fc/{sub}_task-nback_fc.npy')\n",
    "        e = np.load(f'{pncdir}/fc/{sub}_task-emoid_fc.npy')\n",
    "        r = remap(vec2mat(r))\n",
    "        n = remap(vec2mat(n))\n",
    "        e = remap(vec2mat(e))\n",
    "        race.append(ra)\n",
    "        sex.append(se)\n",
    "        age.append(ag)\n",
    "        wrat.append(wr)\n",
    "        rest.append(r[a,b])\n",
    "        nback.append(n[a,b])\n",
    "        emoid.append(e[a,b])\n",
    "        subids.append(sub)\n",
    "    except:\n",
    "        pass\n",
    "\n",
    "rest = np.stack(rest)\n",
    "nback = np.stack(nback)\n",
    "emoid = np.stack(emoid)\n",
    "race = np.array(race).astype('int')\n",
    "sex = np.array(sex).astype('int')\n",
    "age = np.array(age)\n",
    "wrat = np.array(wrat)\n",
    "\n",
    "# age = (age-np.mean(age))/np.std(age)\n",
    "\n",
    "print([a.shape for a in [rest, nback, emoid, race, sex, age, wrat]])"
   ]
  },
  {
   "cell_type": "code",
   "execution_count": 8,
   "id": "97c4e351-178c-4cb0-b62e-3aceef6aac9b",
   "metadata": {},
   "outputs": [
    {
     "name": "stdout",
     "output_type": "stream",
     "text": [
      "224\n",
      "311\n",
      "1.7255059742367097e-05\n",
      "14.596261682242991 3.2320800059972625\n",
      "14.596122778675282 3.505599189579252\n",
      "0.9994453915458162\n"
     ]
    }
   ],
   "source": [
    "from scipy.stats import ttest_ind\n",
    "\n",
    "print(np.sum((race == 1)*(sex == 1)))\n",
    "print(np.sum((race == 1)*(sex == 0)))\n",
    "res = ttest_ind((race == 1)*(sex == 1),(race == 1)*(sex == 0))\n",
    "print(res.pvalue)\n",
    "\n",
    "print(np.mean(age[race == 1]), np.std(age[race == 1]))\n",
    "print(np.mean(age[race == 0]), np.std(age[race == 0]))\n",
    "res = ttest_ind(age[race == 1], age[race == 0])\n",
    "print(res.pvalue)"
   ]
  },
  {
   "cell_type": "code",
   "execution_count": 5,
   "id": "87c4605d-73b2-4a62-abc3-a76ad81d49fe",
   "metadata": {},
   "outputs": [
    {
     "name": "stdout",
     "output_type": "stream",
     "text": [
      "(1154, 35621)\n"
     ]
    }
   ],
   "source": [
    "# Load big SNPs\n",
    "\n",
    "snps = []\n",
    "no_snps_subs = []\n",
    "\n",
    "snps_file = pickle.load(open('/home/anton/Documents/Tulane/Research/ImageNomer/data/PNC/snps_all_subs_big.pkl', 'rb'))\n",
    "\n",
    "for sub in subids:\n",
    "    if sub not in snps_file:\n",
    "        print(sub)\n",
    "        # no_snps_subs.append(sub)\n",
    "    snps.append(snps_file[sub])\n",
    "\n",
    "snps = np.stack(snps)\n",
    "snps[np.isnan(snps)] = 0\n",
    "\n",
    "print(snps.shape)"
   ]
  },
  {
   "cell_type": "code",
   "execution_count": 6,
   "id": "62766b21-7c7e-43e9-8464-2cfb1f69c1eb",
   "metadata": {},
   "outputs": [
    {
     "name": "stdout",
     "output_type": "stream",
     "text": [
      "Done\n"
     ]
    }
   ],
   "source": [
    "import torch\n",
    "import torch.nn as nn\n",
    "import torch.nn.functional as F\n",
    "import random\n",
    "\n",
    "def rmse(a, b, mean=torch.mean):\n",
    "    return mean((a-b)**2)**0.5\n",
    "\n",
    "def pretty(x):\n",
    "    return f'{round(float(x), 4)}'\n",
    "\n",
    "class SNPVAE(nn.Module):\n",
    "    def __init__(self, snpd, ld):\n",
    "        super(SNPVAE, self).__init__()\n",
    "        self.ld = ld\n",
    "        self.enc1 = nn.Linear(snpd*3, 1000).float().cuda()\n",
    "        self.enc2 = nn.Linear(1000, ld).float().cuda()\n",
    "        self.dec1 = nn.Linear(ld+2, 1000).float().cuda()\n",
    "        self.dec20 = nn.Linear(1000, snpd).float().cuda()\n",
    "        self.dec21 = nn.Linear(1000, snpd).float().cuda()\n",
    "        self.dec22 = nn.Linear(1000, snpd).float().cuda()\n",
    "\n",
    "    def enc(self, x):\n",
    "        x = F.relu(self.enc1(x))\n",
    "        z = self.enc2(x)\n",
    "        return z\n",
    "\n",
    "    def gen(self, n):\n",
    "        return torch.randn(n, self.ld).float().cuda()/(10**0.5)\n",
    "\n",
    "    def dec(self, z, sex, race):\n",
    "        z = torch.cat([z, sex.unsqueeze(1), race.unsqueeze(1)], dim=1)\n",
    "        x = F.relu(self.dec1(z))\n",
    "        x0 = self.dec20(x)\n",
    "        x1 = self.dec21(x)\n",
    "        x2 = self.dec22(x)\n",
    "        return torch.stack([x0, x1, x2], dim=1)\n",
    "\n",
    "def latent_loss(z):\n",
    "    C = z.T@z\n",
    "    mu = torch.mean(z, dim=0)\n",
    "    tgt1 = torch.eye(z.shape[-1]).float().cuda()*len(z)/10\n",
    "    tgt2 = torch.zeros(z.shape[-1]).float().cuda()\n",
    "    lossC = rmse(C, tgt1)\n",
    "    lossmu = rmse(mu, tgt2)\n",
    "    return lossC, lossmu, C, mu\n",
    "\n",
    "def decor_loss(z, sex, race):\n",
    "    sex = sex - torch.mean(sex)\n",
    "    race = race - torch.mean(race)\n",
    "    sexp = torch.einsum('n,nz->z', sex, z)\n",
    "    racep = torch.einsum('n,nz->z', race, z)\n",
    "    tgt = torch.zeros(z.shape[-1]).float().cuda()\n",
    "    loss_sex = rmse(sexp, tgt)\n",
    "    loss_race = rmse(racep, tgt)\n",
    "    return loss_sex + loss_race\n",
    "\n",
    "ce = nn.CrossEntropyLoss()\n",
    "\n",
    "# snpvae = SNPVAE(10433, 30)\n",
    "snpvae = SNPVAE(35621, 100)\n",
    "snpvae.load_state_dict(torch.load('/home/anton/Documents/Tulane/Research/ImageNomer/data/PNC/vae_snps_big_1000_z100_cov2.torch'))\n",
    "snpvae.eval()\n",
    "\n",
    "xclass = torch.from_numpy(snps).long().cuda()\n",
    "x = torch.cat([xclass == 0, xclass == 1, xclass == 2], dim=1).float().cuda()\n",
    "sex_t = torch.from_numpy(sex).float().cuda()\n",
    "race_t = torch.from_numpy(race).float().cuda()\n",
    "\n",
    "print('Done')"
   ]
  },
  {
   "cell_type": "code",
   "execution_count": 7,
   "id": "5c82ec67-b151-4f22-a6c7-097221735318",
   "metadata": {},
   "outputs": [
    {
     "name": "stdout",
     "output_type": "stream",
     "text": [
      "Done\n"
     ]
    }
   ],
   "source": [
    "class VAE(nn.Module):\n",
    "    def __init__(self, fcd, ld):\n",
    "        super(VAE, self).__init__()\n",
    "        self.fcd = fcd\n",
    "        self.ld = ld\n",
    "        self.enc1 = nn.Linear(fcd, 1000).float().cuda()\n",
    "        self.enc2 = nn.Linear(1000, ld).float().cuda()\n",
    "        self.dec1 = nn.Linear(ld+6, 1000).float().cuda()\n",
    "        self.dec2 = nn.Linear(1000, fcd).float().cuda()\n",
    "\n",
    "    def enc(self, x):\n",
    "        x = F.relu(self.enc1(x))\n",
    "        z = self.enc2(x)\n",
    "        return z\n",
    "\n",
    "    def gen(self, n):\n",
    "        return torch.randn(n, self.ld).float().cuda()/(10**0.5)\n",
    "    \n",
    "    def dec(self, z, age, sex, race, rest, nback, emoid):\n",
    "        z = torch.cat([z, age.unsqueeze(1), sex.unsqueeze(1), race.unsqueeze(1), \n",
    "                       rest.unsqueeze(1), nback.unsqueeze(1), emoid.unsqueeze(1)], dim=1)\n",
    "        x = F.relu(self.dec1(z))\n",
    "        x = self.dec2(x)\n",
    "        return x\n",
    "\n",
    "def rmse(a, b, mean=torch.mean):\n",
    "    return mean((a-b)**2)**0.5\n",
    "\n",
    "def pretty(x):\n",
    "    return f'{round(float(x), 4)}'\n",
    "\n",
    "vae = VAE(34716, 30)\n",
    "vae.load_state_dict(torch.load('/home/anton/Documents/Tulane/Research/ImageNomer/data/PNC/vae_1000_z30_cov6.torch'))\n",
    "vae.eval()\n",
    "\n",
    "print('Done')"
   ]
  },
  {
   "cell_type": "code",
   "execution_count": 8,
   "id": "bd3e317b-ca73-4d1c-a665-f7da3de3b7b0",
   "metadata": {},
   "outputs": [
    {
     "name": "stdout",
     "output_type": "stream",
     "text": [
      "Done\n"
     ]
    }
   ],
   "source": [
    "with torch.no_grad():\n",
    "    zrest = vae.enc(torch.from_numpy(rest).float().cuda())\n",
    "    znback = vae.enc(torch.from_numpy(nback).float().cuda())\n",
    "    zemoid = vae.enc(torch.from_numpy(emoid).float().cuda())\n",
    "    zsnp = snpvae.enc(x)\n",
    "    zrest = zrest.detach().cpu().numpy()\n",
    "    znback = znback.detach().cpu().numpy()\n",
    "    zemoid = zemoid.detach().cpu().numpy()\n",
    "    zsnp = zsnp.detach().cpu().numpy()\n",
    "\n",
    "print('Done')"
   ]
  },
  {
   "cell_type": "code",
   "execution_count": 53,
   "id": "628ba3da-bf5f-4c87-ae4a-1a67f5dee3e4",
   "metadata": {},
   "outputs": [
    {
     "name": "stdout",
     "output_type": "stream",
     "text": [
      "14.739519284553252 6.306943193461235\n"
     ]
    }
   ],
   "source": [
    "from sklearn.linear_model import Ridge\n",
    "\n",
    "rcinp = np.expand_dims(race, 1)\n",
    "n = 900\n",
    "\n",
    "reg = Ridge(alpha=1000).fit(rest[:n], wrat[:n])\n",
    "yhat = reg.predict(rest[n:])\n",
    "print(rmse(yhat, wrat[n:], mean=np.mean), np.std(yhat))"
   ]
  },
  {
   "cell_type": "code",
   "execution_count": 60,
   "id": "13643134-1bfe-4cb7-89bf-b4646aaa07bb",
   "metadata": {},
   "outputs": [
    {
     "data": {
      "image/png": "[encoded data removed]",
      "text/plain": [
       "<Figure size 600x400 with 1 Axes>"
      ]
     },
     "metadata": {},
     "output_type": "display_data"
    }
   ],
   "source": [
    "import matplotlib.pyplot as plt\n",
    "\n",
    "rc0_wrat = wrat[race == 0]\n",
    "rc1_wrat = wrat[race == 1]\n",
    "\n",
    "fig, ax = plt.subplots(1,1,figsize=(6,4))\n",
    "\n",
    "ax.hist(rc0_wrat, bins=20, histtype='step', label='European Ancestry')\n",
    "ax.hist(rc1_wrat, bins=20, histtype='step', label='African Ancestry')\n",
    "ax.set_xlabel('Standardized (Age-Corrected) WRAT Score')\n",
    "ax.set_ylabel('Number of Subjects')\n",
    "ax.legend()\n",
    "ax.set_title('Histogram of WRAT Score by Major Race Group')\n",
    "\n",
    "fig.savefig('/home/anton/Documents/Tulane/Research/Work/CL-VAE/wrat-hist.pdf')\n",
    "fig.show()"
   ]
  },
  {
   "cell_type": "code",
   "execution_count": null,
   "id": "470c8c88-fbc8-4258-8e37-57767b8ceead",
   "metadata": {},
   "outputs": [],
   "source": []
  }
 ],
 "metadata": {
  "kernelspec": {
   "display_name": "Python 3 (ipykernel)",
   "language": "python",
   "name": "python3"
  },
  "language_info": {
   "codemirror_mode": {
    "name": "ipython",
    "version": 3
   },
   "file_extension": ".py",
   "mimetype": "text/x-python",
   "name": "python",
   "nbconvert_exporter": "python",
   "pygments_lexer": "ipython3",
   "version": "3.11.5"
  }
 },
 "nbformat": 4,
 "nbformat_minor": 5
}
